{
 "cells": [
  {
   "cell_type": "markdown",
   "id": "8de902f6",
   "metadata": {},
   "source": [
    "## 1. Importar Paquetes\n",
    "\n",
    "En primer lugar importamos los paquetes necesarios realizar análisis de datos con python.\n",
    "\n",
    "In first place, we import the packages of data analysis with python."
   ]
  },
  {
   "cell_type": "code",
   "execution_count": 1,
   "id": "eafcacd2",
   "metadata": {},
   "outputs": [],
   "source": [
    "import pandas as pd"
   ]
  },
  {
   "cell_type": "markdown",
   "id": "5bfc3154",
   "metadata": {},
   "source": [
    "## 2. Leer Archivos\n",
    "\n",
    "Se cargan los archivos necesarios para llevar a cabo el análisis.\n",
    "\n",
    "We load the necessary files to do the analysis."
   ]
  },
  {
   "cell_type": "code",
   "execution_count": 2,
   "id": "26dfa0e4",
   "metadata": {},
   "outputs": [
    {
     "data": {
      "text/html": [
       "<div>\n",
       "<style scoped>\n",
       "    .dataframe tbody tr th:only-of-type {\n",
       "        vertical-align: middle;\n",
       "    }\n",
       "\n",
       "    .dataframe tbody tr th {\n",
       "        vertical-align: top;\n",
       "    }\n",
       "\n",
       "    .dataframe thead th {\n",
       "        text-align: right;\n",
       "    }\n",
       "</style>\n",
       "<table border=\"1\" class=\"dataframe\">\n",
       "  <thead>\n",
       "    <tr style=\"text-align: right;\">\n",
       "      <th></th>\n",
       "      <th>course_id</th>\n",
       "      <th>course_title</th>\n",
       "      <th>url</th>\n",
       "      <th>price</th>\n",
       "      <th>num_subscribers</th>\n",
       "      <th>num_reviews</th>\n",
       "      <th>num_lectures</th>\n",
       "      <th>level</th>\n",
       "      <th>Rating</th>\n",
       "      <th>content_duration</th>\n",
       "      <th>published_timestamp</th>\n",
       "      <th>subject</th>\n",
       "    </tr>\n",
       "  </thead>\n",
       "  <tbody>\n",
       "    <tr>\n",
       "      <th>0</th>\n",
       "      <td>49798.0</td>\n",
       "      <td>Bitcoin or How I Learned to Stop Worrying and ...</td>\n",
       "      <td>https://www.udemy.com/bitcoin-or-how-i-learned...</td>\n",
       "      <td>0.0</td>\n",
       "      <td>65576.0</td>\n",
       "      <td>936.0</td>\n",
       "      <td>24.0</td>\n",
       "      <td>All Levels</td>\n",
       "      <td>0.56</td>\n",
       "      <td>8.0</td>\n",
       "      <td>2013-04-20T02:25:22Z</td>\n",
       "      <td>Business Finance</td>\n",
       "    </tr>\n",
       "    <tr>\n",
       "      <th>1</th>\n",
       "      <td>48841.0</td>\n",
       "      <td>Accounting in 60 Minutes - A Brief Introduction</td>\n",
       "      <td>https://www.udemy.com/accounting-in-60-minutes...</td>\n",
       "      <td>0.0</td>\n",
       "      <td>56659.0</td>\n",
       "      <td>4397.0</td>\n",
       "      <td>16.0</td>\n",
       "      <td>Beginner Level</td>\n",
       "      <td>0.95</td>\n",
       "      <td>1.5</td>\n",
       "      <td>2013-04-07T21:39:25Z</td>\n",
       "      <td>Business Finance</td>\n",
       "    </tr>\n",
       "  </tbody>\n",
       "</table>\n",
       "</div>"
      ],
      "text/plain": [
       "   course_id                                       course_title  \\\n",
       "0    49798.0  Bitcoin or How I Learned to Stop Worrying and ...   \n",
       "1    48841.0    Accounting in 60 Minutes - A Brief Introduction   \n",
       "\n",
       "                                                 url  price  num_subscribers  \\\n",
       "0  https://www.udemy.com/bitcoin-or-how-i-learned...    0.0          65576.0   \n",
       "1  https://www.udemy.com/accounting-in-60-minutes...    0.0          56659.0   \n",
       "\n",
       "   num_reviews  num_lectures           level  Rating  content_duration  \\\n",
       "0        936.0          24.0      All Levels    0.56               8.0   \n",
       "1       4397.0          16.0  Beginner Level    0.95               1.5   \n",
       "\n",
       "    published_timestamp           subject  \n",
       "0  2013-04-20T02:25:22Z  Business Finance  \n",
       "1  2013-04-07T21:39:25Z  Business Finance  "
      ]
     },
     "execution_count": 2,
     "metadata": {},
     "output_type": "execute_result"
    }
   ],
   "source": [
    "df = pd.read_csv('/Users/josuequilapanfigueroa/Desktop/test/archive/3.1-data-sheet-udemy-courses-business-courses.csv')\n",
    "df.head(2)"
   ]
  },
  {
   "cell_type": "markdown",
   "id": "cf2b3bce",
   "metadata": {},
   "source": [
    "### 2.1. Significado de las Columnas\n",
    "\n",
    "El significado de las columnas es el siguiente:\n",
    "\n",
    "*course_id*: es un id interno que se le asigna a cada curso (internal id assigned to each course).\n",
    "*course_title*: es el título de cada curso (title of each course).\n",
    "*url*: url de cada curso (url of each course).\n",
    "*price*: precio en dólares de cada curso (price in dollars of each course).\n",
    "*num_subscribers*: "
   ]
  },
  {
   "cell_type": "markdown",
   "id": "4284da6b",
   "metadata": {},
   "source": [
    "## 3. Limpieza de Datos\n",
    "\n",
    "Se comienza el proceso de explorar y limpiar los datos.\n",
    "\n",
    "We start the exploratory and cleaning process for the data.\n",
    "\n",
    "### 3.1. Información General\n",
    "\n",
    "Una función útil para examinar dataframes en python es info(), que nos indica cuántas filas tiene nuestro dataframe, seguido de contar registros no nulos de cada columna y el tipo de dato que contiene.\n",
    "\n",
    "A useful function to examine dataframes is info(), which tell us how many rows our dataframe has and a count of non-null data we have on each column and they data type."
   ]
  },
  {
   "cell_type": "code",
   "execution_count": 7,
   "id": "feb3a87e",
   "metadata": {},
   "outputs": [
    {
     "name": "stdout",
     "output_type": "stream",
     "text": [
      "<class 'pandas.core.frame.DataFrame'>\n",
      "RangeIndex: 1192 entries, 0 to 1191\n",
      "Data columns (total 12 columns):\n",
      " #   Column               Non-Null Count  Dtype  \n",
      "---  ------               --------------  -----  \n",
      " 0   course_id            1191 non-null   float64\n",
      " 1   course_title         1191 non-null   object \n",
      " 2   url                  1191 non-null   object \n",
      " 3   price                1191 non-null   float64\n",
      " 4   num_subscribers      1191 non-null   float64\n",
      " 5   num_reviews          1191 non-null   float64\n",
      " 6   num_lectures         1191 non-null   float64\n",
      " 7   level                1191 non-null   object \n",
      " 8   Rating               1192 non-null   float64\n",
      " 9   content_duration     1191 non-null   float64\n",
      " 10  published_timestamp  1191 non-null   object \n",
      " 11  subject              1191 non-null   object \n",
      "dtypes: float64(7), object(5)\n",
      "memory usage: 111.9+ KB\n"
     ]
    }
   ],
   "source": [
    "df.info()"
   ]
  },
  {
   "cell_type": "markdown",
   "id": "98821ecc",
   "metadata": {},
   "source": [
    "### 3.2. Valores Nulos\n",
    "\n",
    "Como observamos anteriormente, tenemos un valor nulo en casi todas las columnas, por lo que podemos corroborar con la función isna() y sum().\n",
    "\n",
    "As we saw previously, we have a null value in almost all columns, so we can corroborate this information with the function isna() and sum()."
   ]
  },
  {
   "cell_type": "code",
   "execution_count": 4,
   "id": "023b8c3e",
   "metadata": {},
   "outputs": [
    {
     "data": {
      "text/plain": [
       "course_id              1\n",
       "course_title           1\n",
       "url                    1\n",
       "price                  1\n",
       "num_subscribers        1\n",
       "num_reviews            1\n",
       "num_lectures           1\n",
       "level                  1\n",
       "Rating                 0\n",
       "content_duration       1\n",
       "published_timestamp    1\n",
       "subject                1\n",
       "dtype: int64"
      ]
     },
     "execution_count": 4,
     "metadata": {},
     "output_type": "execute_result"
    }
   ],
   "source": [
    "df.isna().sum()"
   ]
  },
  {
   "cell_type": "markdown",
   "id": "b64f98b8",
   "metadata": {},
   "source": [
    "### 3.3. Limpieza de Valores Nulos\n",
    "\n",
    "Al tener valores nulos existen distintos caminos que podemos tomar para trabajarlos: eliminarlos o sustituirlos. En este caso particular, vamos a eliminar la fila que contiene valores nulos usando la función dropna().\n",
    "\n",
    "When we have null values there are different ways we can take to adress this problem: remove or replace the values. In this case, we are going to remove the row that contains the null values with the function dropna()."
   ]
  },
  {
   "cell_type": "code",
   "execution_count": 5,
   "id": "3a53b6d5",
   "metadata": {},
   "outputs": [
    {
     "data": {
      "text/plain": [
       "course_id              0\n",
       "course_title           0\n",
       "url                    0\n",
       "price                  0\n",
       "num_subscribers        0\n",
       "num_reviews            0\n",
       "num_lectures           0\n",
       "level                  0\n",
       "Rating                 0\n",
       "content_duration       0\n",
       "published_timestamp    0\n",
       "subject                0\n",
       "dtype: int64"
      ]
     },
     "execution_count": 5,
     "metadata": {},
     "output_type": "execute_result"
    }
   ],
   "source": [
    "df1 = df.dropna()\n",
    "df1.isna().sum()"
   ]
  },
  {
   "cell_type": "markdown",
   "id": "d117ddf8",
   "metadata": {},
   "source": [
    "## 4. Análisis de Datos\n",
    "\n",
    "Una vez que los datos están limpios, podemos comenzar con los distintos análisis que se quisieran realizar.\n",
    "\n",
    "Lo primero interesante que podemos hacer es usar la función describe(), la que nos dará un breve análisis descriptivo de las columnas con valores numéricos.\n",
    "\n",
    "Once data is clean, we can start the different analysis we want to conduct.\n",
    "\n",
    "The first move we can do is to apply the function describe(), which give us a descriptive analysis of the columns with numeric values."
   ]
  },
  {
   "cell_type": "code",
   "execution_count": 6,
   "id": "c8e33b03",
   "metadata": {},
   "outputs": [
    {
     "data": {
      "text/html": [
       "<div>\n",
       "<style scoped>\n",
       "    .dataframe tbody tr th:only-of-type {\n",
       "        vertical-align: middle;\n",
       "    }\n",
       "\n",
       "    .dataframe tbody tr th {\n",
       "        vertical-align: top;\n",
       "    }\n",
       "\n",
       "    .dataframe thead th {\n",
       "        text-align: right;\n",
       "    }\n",
       "</style>\n",
       "<table border=\"1\" class=\"dataframe\">\n",
       "  <thead>\n",
       "    <tr style=\"text-align: right;\">\n",
       "      <th></th>\n",
       "      <th>course_id</th>\n",
       "      <th>price</th>\n",
       "      <th>num_subscribers</th>\n",
       "      <th>num_reviews</th>\n",
       "      <th>num_lectures</th>\n",
       "      <th>Rating</th>\n",
       "      <th>content_duration</th>\n",
       "    </tr>\n",
       "  </thead>\n",
       "  <tbody>\n",
       "    <tr>\n",
       "      <th>count</th>\n",
       "      <td>1.191000e+03</td>\n",
       "      <td>1191.000000</td>\n",
       "      <td>1191.000000</td>\n",
       "      <td>1191.000000</td>\n",
       "      <td>1191.000000</td>\n",
       "      <td>1191.000000</td>\n",
       "      <td>1191.000000</td>\n",
       "    </tr>\n",
       "    <tr>\n",
       "      <th>mean</th>\n",
       "      <td>6.425519e+05</td>\n",
       "      <td>68.694374</td>\n",
       "      <td>1569.026868</td>\n",
       "      <td>63.729639</td>\n",
       "      <td>32.462636</td>\n",
       "      <td>0.690353</td>\n",
       "      <td>3.557697</td>\n",
       "    </tr>\n",
       "    <tr>\n",
       "      <th>std</th>\n",
       "      <td>3.476285e+05</td>\n",
       "      <td>64.439371</td>\n",
       "      <td>3918.394281</td>\n",
       "      <td>236.208555</td>\n",
       "      <td>45.512784</td>\n",
       "      <td>0.297227</td>\n",
       "      <td>5.673457</td>\n",
       "    </tr>\n",
       "    <tr>\n",
       "      <th>min</th>\n",
       "      <td>1.965300e+04</td>\n",
       "      <td>0.000000</td>\n",
       "      <td>0.000000</td>\n",
       "      <td>0.000000</td>\n",
       "      <td>0.000000</td>\n",
       "      <td>0.000000</td>\n",
       "      <td>0.000000</td>\n",
       "    </tr>\n",
       "    <tr>\n",
       "      <th>25%</th>\n",
       "      <td>3.644970e+05</td>\n",
       "      <td>20.000000</td>\n",
       "      <td>59.000000</td>\n",
       "      <td>3.000000</td>\n",
       "      <td>13.000000</td>\n",
       "      <td>0.470000</td>\n",
       "      <td>1.000000</td>\n",
       "    </tr>\n",
       "    <tr>\n",
       "      <th>50%</th>\n",
       "      <td>6.277720e+05</td>\n",
       "      <td>45.000000</td>\n",
       "      <td>486.000000</td>\n",
       "      <td>12.000000</td>\n",
       "      <td>22.000000</td>\n",
       "      <td>0.800000</td>\n",
       "      <td>2.000000</td>\n",
       "    </tr>\n",
       "    <tr>\n",
       "      <th>75%</th>\n",
       "      <td>9.266480e+05</td>\n",
       "      <td>95.000000</td>\n",
       "      <td>1617.000000</td>\n",
       "      <td>38.000000</td>\n",
       "      <td>36.000000</td>\n",
       "      <td>0.950000</td>\n",
       "      <td>4.000000</td>\n",
       "    </tr>\n",
       "    <tr>\n",
       "      <th>max</th>\n",
       "      <td>1.282064e+06</td>\n",
       "      <td>200.000000</td>\n",
       "      <td>65576.000000</td>\n",
       "      <td>4397.000000</td>\n",
       "      <td>544.000000</td>\n",
       "      <td>1.000000</td>\n",
       "      <td>71.500000</td>\n",
       "    </tr>\n",
       "  </tbody>\n",
       "</table>\n",
       "</div>"
      ],
      "text/plain": [
       "          course_id        price  num_subscribers  num_reviews  num_lectures  \\\n",
       "count  1.191000e+03  1191.000000      1191.000000  1191.000000   1191.000000   \n",
       "mean   6.425519e+05    68.694374      1569.026868    63.729639     32.462636   \n",
       "std    3.476285e+05    64.439371      3918.394281   236.208555     45.512784   \n",
       "min    1.965300e+04     0.000000         0.000000     0.000000      0.000000   \n",
       "25%    3.644970e+05    20.000000        59.000000     3.000000     13.000000   \n",
       "50%    6.277720e+05    45.000000       486.000000    12.000000     22.000000   \n",
       "75%    9.266480e+05    95.000000      1617.000000    38.000000     36.000000   \n",
       "max    1.282064e+06   200.000000     65576.000000  4397.000000    544.000000   \n",
       "\n",
       "            Rating  content_duration  \n",
       "count  1191.000000       1191.000000  \n",
       "mean      0.690353          3.557697  \n",
       "std       0.297227          5.673457  \n",
       "min       0.000000          0.000000  \n",
       "25%       0.470000          1.000000  \n",
       "50%       0.800000          2.000000  \n",
       "75%       0.950000          4.000000  \n",
       "max       1.000000         71.500000  "
      ]
     },
     "execution_count": 6,
     "metadata": {},
     "output_type": "execute_result"
    }
   ],
   "source": [
    "df1.describe()"
   ]
  }
 ],
 "metadata": {
  "kernelspec": {
   "display_name": "Python 3 (ipykernel)",
   "language": "python",
   "name": "python3"
  },
  "language_info": {
   "codemirror_mode": {
    "name": "ipython",
    "version": 3
   },
   "file_extension": ".py",
   "mimetype": "text/x-python",
   "name": "python",
   "nbconvert_exporter": "python",
   "pygments_lexer": "ipython3",
   "version": "3.9.12"
  }
 },
 "nbformat": 4,
 "nbformat_minor": 5
}
